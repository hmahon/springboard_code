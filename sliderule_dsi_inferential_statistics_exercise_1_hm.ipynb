{
 "cells": [
  {
   "cell_type": "markdown",
   "metadata": {},
   "source": [
    "# What is the True Normal Human Body Temperature? \n",
    "\n",
    "#### Background\n",
    "\n",
    "The mean normal body temperature was held to be 37$^{\\circ}$C or 98.6$^{\\circ}$F for more than 120 years since it was first conceptualized and reported by Carl Wunderlich in a famous 1868 book. But, is this value statistically correct?"
   ]
  },
  {
   "cell_type": "markdown",
   "metadata": {},
   "source": [
    "<h3>Exercises</h3>\n",
    "\n",
    "<p>In this exercise, you will analyze a dataset of human body temperatures and employ the concepts of hypothesis testing, confidence intervals, and statistical significance.</p>\n",
    "\n",
    "<p>Answer the following questions <b>in this notebook below and submit to your Github account</b>.</p> \n",
    "\n",
    "<ol>\n",
    "<li>  Is the distribution of body temperatures normal? \n",
    "    <ul>\n",
    "    <li> Although this is not a requirement for the Central Limit Theorem to hold (read the introduction on Wikipedia's page about the CLT carefully: https://en.wikipedia.org/wiki/Central_limit_theorem), it gives us some peace of mind that the population may also be normally distributed if we assume that this sample is representative of the population.\n",
    "    <li> Think about the way you're going to check for the normality of the distribution. Graphical methods are usually used first, but there are also other ways: https://en.wikipedia.org/wiki/Normality_test\n",
    "    </ul>\n",
    "<li>  Is the sample size large? Are the observations independent?\n",
    "    <ul>\n",
    "    <li> Remember that this is a condition for the Central Limit Theorem, and hence the statistical tests we are using, to apply.\n",
    "    </ul>\n",
    "<li>  Is the true population mean really 98.6 degrees F?\n",
    "    <ul>\n",
    "    <li> First, try a bootstrap hypothesis test.\n",
    "    <li> Now, let's try frequentist statistical testing. Would you use a one-sample or two-sample test? Why?\n",
    "    <li> In this situation, is it appropriate to use the $t$ or $z$ statistic? \n",
    "    <li> Now try using the other test. How is the result be different? Why?\n",
    "    </ul>\n",
    "<li>  Draw a small sample of size 10 from the data and repeat both frequentist tests. \n",
    "    <ul>\n",
    "    <li> Which one is the correct one to use? \n",
    "    <li> What do you notice? What does this tell you about the difference in application of the $t$ and $z$ statistic?\n",
    "    </ul>\n",
    "<li>  At what temperature should we consider someone's temperature to be \"abnormal\"?\n",
    "    <ul>\n",
    "    <li> As in the previous example, try calculating everything using the boostrap approach, as well as the frequentist approach.\n",
    "    <li> Start by computing the margin of error and confidence interval. When calculating the confidence interval, keep in mind that you should use the appropriate formula for one draw, and not N draws.\n",
    "    </ul>\n",
    "<li>  Is there a significant difference between males and females in normal temperature?\n",
    "    <ul>\n",
    "    <li> What testing approach did you use and why?\n",
    "    <li> Write a story with your conclusion in the context of the original problem.\n",
    "    </ul>\n",
    "</ol>\n",
    "\n",
    "You can include written notes in notebook cells using Markdown: \n",
    "   - In the control panel at the top, choose Cell > Cell Type > Markdown\n",
    "   - Markdown syntax: http://nestacms.com/docs/creating-content/markdown-cheat-sheet\n",
    "\n",
    "#### Resources\n",
    "\n",
    "+ Information and data sources: http://www.amstat.org/publications/jse/datasets/normtemp.txt, http://www.amstat.org/publications/jse/jse_data_archive.htm\n",
    "+ Markdown syntax: http://nestacms.com/docs/creating-content/markdown-cheat-sheet\n",
    "\n",
    "****"
   ]
  },
  {
   "cell_type": "code",
   "execution_count": null,
   "metadata": {
    "collapsed": true
   },
   "outputs": [],
   "source": []
  },
  {
   "cell_type": "code",
   "execution_count": 7,
   "metadata": {
    "collapsed": true
   },
   "outputs": [],
   "source": [
    "import pandas as pd\n",
    "\n",
    "df = pd.read_csv('C:/data/human_body_temperature.csv')"
   ]
  },
  {
   "cell_type": "code",
   "execution_count": 128,
   "metadata": {
    "collapsed": true
   },
   "outputs": [],
   "source": [
    "# Your work here."
   ]
  },
  {
   "cell_type": "markdown",
   "metadata": {},
   "source": [
    "Question 1. Is the distribution of body temperatures normal?"
   ]
  },
  {
   "cell_type": "markdown",
   "metadata": {},
   "source": [
    "Answer:<ul>\n",
    "<li>\n",
    "From the histogram, this distribution does not appear to be normally distributed. Most of the temperatures are 98.6$^{\\circ}$F or below.<li>\n",
    "My analysis based on 3 standard deviations from the mean also concurs with this.\n"
   ]
  },
  {
   "cell_type": "markdown",
   "metadata": {},
   "source": [
    "HM Questions:<ul><ol>\n",
    "<li>\n",
    "For the histogram, what should the y-label be b/c I'm making this a pdf? \n",
    "<li>\n",
    "Is my mathmatetical way correct?"
   ]
  },
  {
   "cell_type": "code",
   "execution_count": 21,
   "metadata": {},
   "outputs": [
    {
     "data": {
      "image/png": "[encoded data removed]",
      "text/plain": [
       "<matplotlib.figure.Figure at 0xd9f6668>"
      ]
     },
     "metadata": {},
     "output_type": "display_data"
    }
   ],
   "source": [
    "# Histogram\n",
    "import matplotlib.pyplot as plt\n",
    "\n",
    "#normed=True argument in a histogram makes it so the area of the histogram bars = 1\n",
    "plt.hist(df['temperature'], normed=True)\n",
    "plt.xlabel('Temperature (F)')\n",
    "plt.ylabel('# of People')\n",
    "plt.show()"
   ]
  },
  {
   "cell_type": "code",
   "execution_count": 124,
   "metadata": {},
   "outputs": [
    {
     "name": "stdout",
     "output_type": "stream",
     "text": [
      "Dataset is not normal based on max\n"
     ]
    }
   ],
   "source": [
    "# other way to check for normalcy from wikipedia. checking to see if max/min greater than 3 std's away from mean\n",
    "# compares it to the 68–95–99.7 rule: if one has a 3σ event (properly, a 3s event) and substantially fewer than 300 samples, or a 4s event and substantially fewer than 15,000 samples, then a normal distribution will understate the maximum magnitude of deviations in the sample data.\n",
    "\n",
    "import numpy as np\n",
    "sample_std = np.std(df['temperature'])\n",
    "sample_mean = np.mean(df['temperature'])\n",
    "\n",
    "\n",
    "if sample_mean + 3*std < max(df['temperature']):\n",
    "    print 'Dataset is not normal based on max'\n",
    "    \n",
    "if sample_mean - 3*std > min(df['temperature']):\n",
    "    print 'Dataset is not normal based on min'    "
   ]
  },
  {
   "cell_type": "code",
   "execution_count": null,
   "metadata": {
    "collapsed": true
   },
   "outputs": [],
   "source": []
  },
  {
   "cell_type": "code",
   "execution_count": null,
   "metadata": {
    "collapsed": true
   },
   "outputs": [],
   "source": []
  },
  {
   "cell_type": "markdown",
   "metadata": {
    "collapsed": true
   },
   "source": [
    "Question 2. Is the sample size large? Are the observations independent?"
   ]
  },
  {
   "cell_type": "markdown",
   "metadata": {},
   "source": [
    "Answer:<ul><li>\n",
    "Yes it is large b/c the # of observations is 130 which is greater than 30. <li>\n",
    "Yes the observations are independent b/c one person's body temperature has no impact on another person's body temperature."
   ]
  },
  {
   "cell_type": "markdown",
   "metadata": {},
   "source": [
    "HM Questions:<ul><ol>\n",
    "<li>\n",
    "Are the above answers right?"
   ]
  },
  {
   "cell_type": "code",
   "execution_count": 3,
   "metadata": {},
   "outputs": [
    {
     "data": {
      "text/plain": [
       "temperature    130\n",
       "gender         130\n",
       "heart_rate     130\n",
       "dtype: int64"
      ]
     },
     "execution_count": 3,
     "metadata": {},
     "output_type": "execute_result"
    }
   ],
   "source": [
    "df.count()"
   ]
  },
  {
   "cell_type": "code",
   "execution_count": null,
   "metadata": {
    "collapsed": true
   },
   "outputs": [],
   "source": []
  },
  {
   "cell_type": "code",
   "execution_count": null,
   "metadata": {
    "collapsed": true
   },
   "outputs": [],
   "source": []
  },
  {
   "cell_type": "markdown",
   "metadata": {},
   "source": [
    "Question 3. Is the true population mean really 98.6 degrees F?"
   ]
  },
  {
   "cell_type": "markdown",
   "metadata": {},
   "source": [
    "Answer:<ul><li>\n",
    "For #1, yes it is <li>\n",
    "For #2, you would use a 2 sided test. This is because you're not saying if the sampled mean is greater than or if it less than, you're saying that the sampled mean is not equal to the mean.  Yes the observations are independent b/c one person's body temperature has no impact on another person's body temperature.<li>\n",
    "For #3, you must know the standard deviation of the population and your sample size should be above 30 in order for you to be able to use the z-score. We know the standard deviation of the population and the sample is > 30. <li>\n",
    "For #4, the p-value is low, and the mean of the bootstrapped sample is statistically significantly different than the true, population mean of 98.6. The results are different b/c you're using the standard deviation of the bootstrapped sample in your calculation as well as factoring in the size of your sample. This may give you more certainty that the mean is not the same as the true, population mean as is in this case.\n"
   ]
  },
  {
   "cell_type": "markdown",
   "metadata": {},
   "source": [
    "HM Questions:<ul><ol>\n",
    "<li>\n",
    "For #1, what should my bootstrap sample size be? Is 10k fine? \n",
    "<li>\n",
    "For #1, should I have generated a bootstrap replicate array for to answer this? I did not. I just used bootstrap sample\n",
    "<li>\n",
    "For #1, is how I found the p-value correct?\n",
    "<li>\n",
    "For #1 & #2, doesn't the bootstrap test need the frequentist test as part of it? This is confusing...\n",
    "<li>\n",
    "For #4, is the \"other\" test they're referring to a t test? If so, is my answer correct?\n"
   ]
  },
  {
   "cell_type": "code",
   "execution_count": 4,
   "metadata": {
    "collapsed": true
   },
   "outputs": [],
   "source": [
    "#First, try a bootstrap hypothesis test. using z value. "
   ]
  },
  {
   "cell_type": "code",
   "execution_count": 120,
   "metadata": {},
   "outputs": [
    {
     "name": "stdout",
     "output_type": "stream",
     "text": [
      "the bs_sample mean is  98.26154\n",
      "the bs_sample std is  0.737855560662\n",
      "the z-score is -0.463416711338\n",
      "the p-value is 0.643065702446\n",
      "sample mean falls within 1 std of true mean:  True\n",
      "sample mean falls within 1 std of true mean:  True\n"
     ]
    }
   ],
   "source": [
    "import numpy as np\n",
    "import scipy.stats as st\n",
    "true_population_mean = 98.6\n",
    "bs_sample = np.random.choice(df['temperature'], size=10000)\n",
    "bs_sample_mean = np.mean(bs_sample)\n",
    "bs_sample_std = np.std(bs_sample)\n",
    "\n",
    "print 'the bs_sample mean is ', bs_sample_mean\n",
    "print 'the bs_sample std is ', bs_sample_std\n",
    "\n",
    "# i believe you use your sample's std here based on my note (Question 3) + the zscore\n",
    "z = (bs_sample_mean - true_population_mean) / sample_std\n",
    "p_values = st.norm.sf(abs(z))*2\n",
    "\n",
    "print 'the z-score is', z\n",
    "print 'the p-value is', p_values\n",
    "\n",
    "\n",
    "# can also say that bs_sample_mean falls within 1 standard deviation of the mean\n",
    "print 'sample mean falls within 1 std of true mean: ', true_population_mean - bs_sample_std < bs_sample_mean\n",
    "print 'sample mean falls within 1 std of true mean: ', true_population_mean + bs_sample_std > bs_sample_mean"
   ]
  },
  {
   "cell_type": "code",
   "execution_count": null,
   "metadata": {
    "collapsed": true
   },
   "outputs": [],
   "source": [
    "# using t score instead of z score. p-value is small. reject null hypothesis that the means are the same"
   ]
  },
  {
   "cell_type": "code",
   "execution_count": 121,
   "metadata": {},
   "outputs": [
    {
     "name": "stdout",
     "output_type": "stream",
     "text": [
      "the t-score is -45.8707663186\n",
      "the p-value is 0.0\n"
     ]
    }
   ],
   "source": [
    "t = (bs_sample_mean - true_population_mean) / (bs_sample_std / np.sqrt(len(bs_sample)))\n",
    "p_values_t = st.norm.sf(abs(t))*2\n",
    "\n",
    "print 'the t-score is', t\n",
    "print 'the p-value is', p_values_t"
   ]
  },
  {
   "cell_type": "code",
   "execution_count": null,
   "metadata": {
    "collapsed": true
   },
   "outputs": [],
   "source": []
  },
  {
   "cell_type": "code",
   "execution_count": null,
   "metadata": {
    "collapsed": true
   },
   "outputs": [],
   "source": []
  },
  {
   "cell_type": "markdown",
   "metadata": {},
   "source": [
    "Question 4. Draw a small sample of size 10 from the data and repeat both frequentist tests."
   ]
  },
  {
   "cell_type": "markdown",
   "metadata": {},
   "source": [
    "Answer:<ul><li>\n",
    "For #1, the t test is correct to use b/c the sample size is < 30. <li>\n",
    "For #2, I notice that now you would not reject the null hypothesis using the t statistic whereas in problem 3, with a sample size of 10k, you would. This shows me that the sample size has a big impact on the t statistic - which makes sense given that it's in the denominator. \n"
   ]
  },
  {
   "cell_type": "markdown",
   "metadata": {},
   "source": [
    "HM Questions:<ul><ol>\n",
    "<li>\n",
    "Correct?\n"
   ]
  },
  {
   "cell_type": "code",
   "execution_count": 122,
   "metadata": {},
   "outputs": [
    {
     "name": "stdout",
     "output_type": "stream",
     "text": [
      "the bs_sample mean is  98.4\n",
      "the bs_sample std is  0.458257569496\n",
      "the z-score is -0.273838392329\n",
      "the p-value is 0.784208818085\n",
      "sample mean falls within 1 std of true mean:  True\n",
      "sample mean falls within 1 std of true mean:  True\n"
     ]
    }
   ],
   "source": [
    "import numpy as np\n",
    "import scipy.stats as st\n",
    "true_population_mean = 98.6\n",
    "bs_sample_10 = np.random.choice(df['temperature'], size=10)\n",
    "bs_sample_mean_10 = np.mean(bs_sample_10)\n",
    "bs_sample_std_10 = np.std(bs_sample_10)\n",
    "\n",
    "print 'the bs_sample mean is ', bs_sample_mean_10\n",
    "print 'the bs_sample std is ', bs_sample_std_10\n",
    "\n",
    "# i believe you use your sample's std here based on my note (Question 3) + the zscore\n",
    "z = (bs_sample_mean_10 - true_population_mean) / sample_std\n",
    "p_values = st.norm.sf(abs(z))*2\n",
    "\n",
    "print 'the z-score is', z\n",
    "print 'the p-value is', p_values\n",
    "\n",
    "\n",
    "# can also say that bs_sample_mean falls within 1 standard deviation of the mean\n",
    "print 'sample mean falls within 1 std of true mean: ', true_population_mean - bs_sample_std_10 < bs_sample_mean_10\n",
    "print 'sample mean falls within 1 std of true mean: ', true_population_mean + bs_sample_std_10 > bs_sample_mean_10"
   ]
  },
  {
   "cell_type": "code",
   "execution_count": null,
   "metadata": {
    "collapsed": true
   },
   "outputs": [],
   "source": [
    "# using t score instead of z score. "
   ]
  },
  {
   "cell_type": "code",
   "execution_count": 123,
   "metadata": {},
   "outputs": [
    {
     "name": "stdout",
     "output_type": "stream",
     "text": [
      "the t-score is -1.38013111868\n",
      "the p-value is 0.167546277489\n"
     ]
    }
   ],
   "source": [
    "t = (bs_sample_mean_10 - true_population_mean) / (bs_sample_std_10 / np.sqrt(len(bs_sample_10)))\n",
    "p_values_t = st.norm.sf(abs(t))*2\n",
    "\n",
    "print 'the t-score is', t\n",
    "print 'the p-value is', p_values_t"
   ]
  },
  {
   "cell_type": "code",
   "execution_count": null,
   "metadata": {
    "collapsed": true
   },
   "outputs": [],
   "source": []
  },
  {
   "cell_type": "code",
   "execution_count": null,
   "metadata": {
    "collapsed": true
   },
   "outputs": [],
   "source": []
  },
  {
   "cell_type": "markdown",
   "metadata": {},
   "source": [
    "Question 5. At what temperature should we consider someone's temperature to be \"abnormal\"?"
   ]
  },
  {
   "cell_type": "markdown",
   "metadata": {},
   "source": [
    "Answer:<ul><li>\n",
    "For #1, Using the initial sample and a 95% confidence interval, you would consider someone's temperature to be \"abnormal\" at 96.72 and 99.47 degrees F.\n"
   ]
  },
  {
   "cell_type": "markdown",
   "metadata": {},
   "source": [
    "HM Questions:<ul><ol>\n",
    "<li>\n",
    "Correct?\n",
    "<li>\n",
    "Same as for the 2nd question. Here I'm not resampling the data, but doesnt the bootstrapping data need to go through the same tests?"
   ]
  },
  {
   "cell_type": "code",
   "execution_count": 127,
   "metadata": {},
   "outputs": [
    {
     "name": "stdout",
     "output_type": "stream",
     "text": [
      "[ 96.7225  99.4775]\n"
     ]
    }
   ],
   "source": [
    "import numpy as np\n",
    "# 95% confidence interval\n",
    "conf_int = np.percentile(df['temperature'], [2.5, 97.5])\n",
    "print conf_int"
   ]
  },
  {
   "cell_type": "code",
   "execution_count": null,
   "metadata": {
    "collapsed": true
   },
   "outputs": [],
   "source": []
  },
  {
   "cell_type": "code",
   "execution_count": null,
   "metadata": {
    "collapsed": true
   },
   "outputs": [],
   "source": []
  },
  {
   "cell_type": "markdown",
   "metadata": {},
   "source": [
    "Question 6. Is there a significant difference between males and females in normal temperature?"
   ]
  },
  {
   "cell_type": "markdown",
   "metadata": {},
   "source": [
    "Answer:<ul><li>\n",
    "For #1, I used a hypothesis test comparing the bootstrappted replicates of the sampled data for males and females. B/c the p-value is 0, yes there it is statistically significant that the means of males and females are not equal.  \n"
   ]
  },
  {
   "cell_type": "markdown",
   "metadata": {},
   "source": [
    "HM Questions:<ul><ol>\n",
    "<li>\n",
    "Correct?\n",
    "<li>\n",
    "On the last part, why can't i do len(bs_diff_replicates)? I'm assuming here is where i needed to actually recreate the functions like in datacamp. Can we walk through how to do this last one?"
   ]
  },
  {
   "cell_type": "code",
   "execution_count": 158,
   "metadata": {},
   "outputs": [
    {
     "name": "stdout",
     "output_type": "stream",
     "text": [
      "the females_bs_sample mean is  98.39863\n",
      "the males_bs_sample std is  98.10544\n",
      "the p-value is  0\n"
     ]
    }
   ],
   "source": [
    "import numpy as np\n",
    "import scipy.stats as st\n",
    "females = df[df['gender']=='F']\n",
    "males = df[df['gender']=='M']\n",
    "\n",
    "females_sample_mean = np.mean(females['temperature'])\n",
    "males_sample_mean = np.mean(males['temperature'])\n",
    "\n",
    "females_bs_sample = np.random.choice(females['temperature'], size=10000)\n",
    "females_bs_sample_mean = np.mean(females_bs_sample)\n",
    "females_bs_sample_std = np.std(females_bs_sample)\n",
    "\n",
    "males_bs_sample = np.random.choice(males['temperature'], size=10000)\n",
    "males_bs_sample_mean = np.mean(males_bs_sample)\n",
    "males_bs_sample_std = np.std(males_bs_sample)\n",
    "\n",
    "\n",
    "print 'the females_bs_sample mean is ', females_bs_sample_mean\n",
    "print 'the males_bs_sample std is ', males_bs_sample_mean\n",
    "\n",
    "bs_diff_replicates = females_bs_sample_mean - males_bs_sample_mean\n",
    "mean_diff = 0  # null hypothesis is that there's no difference b/t male and female body temp\n",
    "#p = np.sum(bs_diff_replicates >= mean_diff) / len(bs_diff_replicates)   <--- this does not work\n",
    "p = np.sum(bs_diff_replicates >= mean_diff) / len(males)\n",
    "print 'the p-value is ', p"
   ]
  },
  {
   "cell_type": "code",
   "execution_count": null,
   "metadata": {
    "collapsed": true
   },
   "outputs": [],
   "source": []
  }
 ],
 "metadata": {
  "kernelspec": {
   "display_name": "Python 2",
   "language": "python",
   "name": "python2"
  },
  "language_info": {
   "codemirror_mode": {
    "name": "ipython",
    "version": 2
   },
   "file_extension": ".py",
   "mimetype": "text/x-python",
   "name": "python",
   "nbconvert_exporter": "python",
   "pygments_lexer": "ipython2",
   "version": "2.7.13"
  }
 },
 "nbformat": 4,
 "nbformat_minor": 1
}
