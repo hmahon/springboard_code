{
 "cells": [
  {
   "cell_type": "markdown",
   "metadata": {},
   "source": [
    "# What is the True Normal Human Body Temperature? \n",
    "\n",
    "#### Background\n",
    "\n",
    "The mean normal body temperature was held to be 37$^{\\circ}$C or 98.6$^{\\circ}$F for more than 120 years since it was first conceptualized and reported by Carl Wunderlich in a famous 1868 book. But, is this value statistically correct?"
   ]
  },
  {
   "cell_type": "markdown",
   "metadata": {},
   "source": [
    "<h3>Exercises</h3>\n",
    "\n",
    "<p>In this exercise, you will analyze a dataset of human body temperatures and employ the concepts of hypothesis testing, confidence intervals, and statistical significance.</p>\n",
    "\n",
    "<p>Answer the following questions <b>in this notebook below and submit to your Github account</b>.</p> \n",
    "\n",
    "<ol>\n",
    "<li>  Is the distribution of body temperatures normal? \n",
    "    <ul>\n",
    "    <li> Although this is not a requirement for the Central Limit Theorem to hold (read the introduction on Wikipedia's page about the CLT carefully: https://en.wikipedia.org/wiki/Central_limit_theorem), it gives us some peace of mind that the population may also be normally distributed if we assume that this sample is representative of the population.\n",
    "    <li> Think about the way you're going to check for the normality of the distribution. Graphical methods are usually used first, but there are also other ways: https://en.wikipedia.org/wiki/Normality_test\n",
    "    </ul>\n",
    "<li>  Is the sample size large? Are the observations independent?\n",
    "    <ul>\n",
    "    <li> Remember that this is a condition for the Central Limit Theorem, and hence the statistical tests we are using, to apply.\n",
    "    </ul>\n",
    "<li>  Is the true population mean really 98.6 degrees F?\n",
    "    <ul>\n",
    "    <li> First, try a bootstrap hypothesis test.\n",
    "    <li> Now, let's try frequentist statistical testing. Would you use a one-sample or two-sample test? Why?\n",
    "    <li> In this situation, is it appropriate to use the $t$ or $z$ statistic? \n",
    "    <li> Now try using the other test. How is the result be different? Why?\n",
    "    </ul>\n",
    "<li>  Draw a small sample of size 10 from the data and repeat both frequentist tests. \n",
    "    <ul>\n",
    "    <li> Which one is the correct one to use? \n",
    "    <li> What do you notice? What does this tell you about the difference in application of the $t$ and $z$ statistic?\n",
    "    </ul>\n",
    "<li>  At what temperature should we consider someone's temperature to be \"abnormal\"?\n",
    "    <ul>\n",
    "    <li> As in the previous example, try calculating everything using the boostrap approach, as well as the frequentist approach.\n",
    "    <li> Start by computing the margin of error and confidence interval. When calculating the confidence interval, keep in mind that you should use the appropriate formula for one draw, and not N draws.\n",
    "    </ul>\n",
    "<li>  Is there a significant difference between males and females in normal temperature?\n",
    "    <ul>\n",
    "    <li> What testing approach did you use and why?\n",
    "    <li> Write a story with your conclusion in the context of the original problem.\n",
    "    </ul>\n",
    "</ol>\n",
    "\n",
    "You can include written notes in notebook cells using Markdown: \n",
    "   - In the control panel at the top, choose Cell > Cell Type > Markdown\n",
    "   - Markdown syntax: http://nestacms.com/docs/creating-content/markdown-cheat-sheet\n",
    "\n",
    "#### Resources\n",
    "\n",
    "+ Information and data sources: http://www.amstat.org/publications/jse/datasets/normtemp.txt, http://www.amstat.org/publications/jse/jse_data_archive.htm\n",
    "+ Markdown syntax: http://nestacms.com/docs/creating-content/markdown-cheat-sheet\n",
    "\n",
    "****"
   ]
  },
  {
   "cell_type": "code",
   "execution_count": 1,
   "metadata": {
    "collapsed": true
   },
   "outputs": [],
   "source": [
    "import pandas as pd\n",
    "\n",
    "df = pd.read_csv('C:/data/human_body_temperature.csv')"
   ]
  },
  {
   "cell_type": "code",
   "execution_count": 2,
   "metadata": {},
   "outputs": [],
   "source": [
    "# Your work here.\n"
   ]
  },
  {
   "cell_type": "markdown",
   "metadata": {},
   "source": [
    "Question 1. Is the distribution of body temperatures normal?"
   ]
  },
  {
   "cell_type": "markdown",
   "metadata": {},
   "source": [
    "Answer:<ul>\n",
    "<li>\n",
    "While the histogram at first glance does not appear to be normal, after running some more advanced statistics, I belive it is normal<li>\n",
    "Breaking the histogram into bins in the second plot makes the graph seem more normal. <li>\n",
    "Additonally proving that it is normally distributed, the skewness statistic is very close to zero. <li>\n",
    "The p-value for the normal test is > .05, thus agreeing with the null hypothesis at a 95% confidence level that the data is normal. <li>\n",
    "The excess kurtosis is .7. Because it is inside of the range -2 to 2, that is also another indicator that the dataset is normally distributed.   \n"
   ]
  },
  {
   "cell_type": "code",
   "execution_count": 3,
   "metadata": {
    "scrolled": true
   },
   "outputs": [
    {
     "data": {
      "image/png": "[encoded data removed]",
      "text/plain": [
       "<matplotlib.figure.Figure at 0xb3cf400>"
      ]
     },
     "metadata": {},
     "output_type": "display_data"
    }
   ],
   "source": [
    "# Histogram\n",
    "import matplotlib.pyplot as plt\n",
    "\n",
    "#normed=True argument in a histogram makes it so the area of the histogram bars = 1\n",
    "plt.hist(df['temperature'], normed=True)\n",
    "plt.xlabel('Temperature (F)')\n",
    "plt.ylabel('# of People')\n",
    "plt.show()"
   ]
  },
  {
   "cell_type": "code",
   "execution_count": 4,
   "metadata": {},
   "outputs": [
    {
     "data": {
      "image/png": "[encoded data removed]",
      "text/plain": [
       "<matplotlib.figure.Figure at 0xc2e54a8>"
      ]
     },
     "metadata": {},
     "output_type": "display_data"
    },
    {
     "name": "stdout",
     "output_type": "stream",
     "text": [
      "('mean : ', 98.24923076923078)\n",
      "('var  : ', 0.5334224852071)\n",
      "('skew : ', -0.004367976879081625)\n",
      "('kurt : ', 0.7049597854114693)\n",
      "('normal_test : ', NormaltestResult(statistic=2.7038014333192031, pvalue=0.2587479863488254))\n"
     ]
    }
   ],
   "source": [
    "import numpy as np\n",
    "import pandas as pd\n",
    "from scipy.stats import kurtosis\n",
    "from scipy.stats import skew\n",
    "from scipy.stats import normaltest\n",
    "\n",
    "import matplotlib.pyplot as plt\n",
    "\n",
    "plt.style.use('ggplot')\n",
    "\n",
    "data = df['temperature']\n",
    "np.var(data)\n",
    "\n",
    "plt.hist(data, bins=60)\n",
    "plt.show()\n",
    "\n",
    "print(\"mean : \", np.mean(data))\n",
    "print(\"var  : \", np.var(data))\n",
    "print(\"skew : \",skew(data))\n",
    "print(\"kurt : \",kurtosis(data))\n",
    "print(\"normal_test : \", normaltest(data))"
   ]
  },
  {
   "cell_type": "code",
   "execution_count": null,
   "metadata": {
    "collapsed": true
   },
   "outputs": [],
   "source": []
  },
  {
   "cell_type": "code",
   "execution_count": null,
   "metadata": {
    "collapsed": true
   },
   "outputs": [],
   "source": []
  },
  {
   "cell_type": "markdown",
   "metadata": {
    "collapsed": true
   },
   "source": [
    "Question 2. Is the sample size large? Are the observations independent?"
   ]
  },
  {
   "cell_type": "markdown",
   "metadata": {},
   "source": [
    "Answer:<ul><li>\n",
    "Yes it is large b/c the # of observations is 130 which is greater than 30. <li>\n",
    "Yes the observations are independent b/c one person's body temperature has no impact on another person's body temperature."
   ]
  },
  {
   "cell_type": "code",
   "execution_count": null,
   "metadata": {
    "collapsed": true
   },
   "outputs": [],
   "source": []
  },
  {
   "cell_type": "code",
   "execution_count": null,
   "metadata": {
    "collapsed": true
   },
   "outputs": [],
   "source": []
  },
  {
   "cell_type": "markdown",
   "metadata": {},
   "source": [
    "Question 3. Is the true population mean really 98.6 degrees F?"
   ]
  },
  {
   "cell_type": "markdown",
   "metadata": {},
   "source": [
    "Answer:<ul><li>\n",
    "For #1, keep the null hypothesis that the true population mean really is 98.6 b/c the p-value is > .05  <li>\n",
    "For #2, you would use a 2 sided test. This is because you're not saying if the sampled mean is greater than or if it less than, you're saying that the sampled mean is not equal to the mean.  <li>\n",
    "For #3, you would use the z-score. You must know the standard deviation of the population and your sample size should be above 30 in order for you to be able to use the z-score. We know the standard deviation of the population and the sample is > 30. <li>\n",
    "For #4, the p-value is close to 0 meaning that the results are statistically significantly different than the true, population mean of 98.6. The results are different b/c you're factoring in the size of your sample. "
   ]
  },
  {
   "cell_type": "markdown",
   "metadata": {},
   "source": [
    "HM Questions:<ul><ol>\n",
    "<li>\n",
    "For #1, is how I found the p-value correct?\n",
    "<li>\n",
    "For #1 & #2, should #1's p-value get doubled? it is almost 2x as large as what I'm getting for #2\n",
    "<li>\n",
    "For #4, is the \"other\" test they're referring to a t test? If so, is my answer correct?\n"
   ]
  },
  {
   "cell_type": "code",
   "execution_count": 5,
   "metadata": {
    "collapsed": true
   },
   "outputs": [],
   "source": [
    "#1. First, try a bootstrap hypothesis test"
   ]
  },
  {
   "cell_type": "code",
   "execution_count": 6,
   "metadata": {},
   "outputs": [
    {
     "name": "stdout",
     "output_type": "stream",
     "text": [
      "p-value =  0.330769230769\n"
     ]
    }
   ],
   "source": [
    "x = df['temperature']\n",
    "bs_sample = np.random.choice(x, size=len(x))\n",
    "true_mean = 98.6\n",
    "p = float(np.sum(bs_sample >= true_mean)) / len(bs_sample)\n",
    "print 'p-value = ', p"
   ]
  },
  {
   "cell_type": "code",
   "execution_count": 7,
   "metadata": {
    "collapsed": true
   },
   "outputs": [],
   "source": [
    "#2 Frequentist Test... z = (x – μ) / σ"
   ]
  },
  {
   "cell_type": "code",
   "execution_count": 10,
   "metadata": {},
   "outputs": [
    {
     "name": "stdout",
     "output_type": "stream",
     "text": [
      " p-value =  0.631035125585\n"
     ]
    }
   ],
   "source": [
    "import numpy as np\n",
    "import scipy.stats as st\n",
    "import scipy.special as sp\n",
    "\n",
    "\n",
    "x = df['temperature']\n",
    "n = len(x)  # number of sample records\n",
    "true_value = 98.6  # null-hypothesis of fair coin\n",
    "xbar = float(np.mean(x))\n",
    "\n",
    "z_scores = (xbar - true_value) / np.std(x)\n",
    "print 'p-value = ', st.norm.sf(abs(z_scores))*2\n"
   ]
  },
  {
   "cell_type": "code",
   "execution_count": null,
   "metadata": {
    "collapsed": true
   },
   "outputs": [],
   "source": [
    "#4.  using t score instead of z score. "
   ]
  },
  {
   "cell_type": "code",
   "execution_count": 13,
   "metadata": {},
   "outputs": [
    {
     "name": "stdout",
     "output_type": "stream",
     "text": [
      "the t-score is -5.47592520208\n",
      "the p-value is 4.35231516588e-08\n"
     ]
    }
   ],
   "source": [
    "t = float((xbar - true_value)) / float((np.std(x) / np.sqrt(len(x))))\n",
    "p_values_t = st.norm.sf(abs(t))*2\n",
    "\n",
    "print 'the t-score is', t\n",
    "print 'the p-value is', p_values_t"
   ]
  },
  {
   "cell_type": "code",
   "execution_count": null,
   "metadata": {
    "collapsed": true
   },
   "outputs": [],
   "source": []
  },
  {
   "cell_type": "markdown",
   "metadata": {},
   "source": [
    "Question 4. Draw a small sample of size 10 from the data and repeat both frequentist tests."
   ]
  },
  {
   "cell_type": "markdown",
   "metadata": {},
   "source": [
    "Answer:<ul><li>\n",
    "For #1, the t test is correct to use b/c the sample size is < 30. <li>\n",
    "For #2, I notice that now you would not reject the null hypothesis using the t statistic whereas in problem 3, with a sample size of 130, you would. This shows me that the sample size has a big impact on the t statistic - which makes sense given that it's in the denominator. <li>\n",
    "Additionally, the z score test does not change because changing the sample size is not in the calculation of z score\n"
   ]
  },
  {
   "cell_type": "code",
   "execution_count": null,
   "metadata": {
    "collapsed": true
   },
   "outputs": [],
   "source": [
    "# using t test with a sample size of 10"
   ]
  },
  {
   "cell_type": "code",
   "execution_count": 16,
   "metadata": {},
   "outputs": [
    {
     "name": "stdout",
     "output_type": "stream",
     "text": [
      "the t-score is -1.51874839205\n",
      "the p-value is 0.128825840683\n"
     ]
    }
   ],
   "source": [
    "t = float((xbar - true_value)) / float((np.std(x) / np.sqrt(10)))\n",
    "p_values_t = st.norm.sf(abs(t))*2\n",
    "\n",
    "print 'the t-score is', t\n",
    "print 'the p-value is', p_values_t"
   ]
  },
  {
   "cell_type": "code",
   "execution_count": null,
   "metadata": {
    "collapsed": true
   },
   "outputs": [],
   "source": [
    "# using z score with a sample size of 10"
   ]
  },
  {
   "cell_type": "code",
   "execution_count": 17,
   "metadata": {},
   "outputs": [
    {
     "name": "stdout",
     "output_type": "stream",
     "text": [
      "p-value =  0.631035125585\n"
     ]
    }
   ],
   "source": [
    "import numpy as np\n",
    "import scipy.stats as st\n",
    "import scipy.special as sp\n",
    "\n",
    "\n",
    "x = df['temperature']\n",
    "n = len(x)  # number of sample records\n",
    "true_value = 98.6  # null-hypothesis of fair coin\n",
    "xbar = float(np.mean(x))\n",
    "\n",
    "z_scores = (xbar - true_value) / np.std(x)\n",
    "print 'p-value = ', st.norm.sf(abs(z_scores))*2"
   ]
  },
  {
   "cell_type": "code",
   "execution_count": null,
   "metadata": {
    "collapsed": true
   },
   "outputs": [],
   "source": []
  },
  {
   "cell_type": "markdown",
   "metadata": {},
   "source": [
    "Question 5. At what temperature should we consider someone's temperature to be \"abnormal\"?"
   ]
  },
  {
   "cell_type": "markdown",
   "metadata": {},
   "source": [
    "Answer:<ul><li>\n",
    "For #1, Using the initial sample and a 95% confidence interval, you would consider someone's temperature to be \"abnormal\" at 96.72 and 99.47 degrees F.\n"
   ]
  },
  {
   "cell_type": "code",
   "execution_count": 18,
   "metadata": {},
   "outputs": [
    {
     "name": "stdout",
     "output_type": "stream",
     "text": [
      "[ 96.7225  99.4775]\n"
     ]
    }
   ],
   "source": [
    "import numpy as np\n",
    "# 95% confidence interval\n",
    "conf_int = np.percentile(df['temperature'], [2.5, 97.5])\n",
    "print conf_int"
   ]
  },
  {
   "cell_type": "code",
   "execution_count": null,
   "metadata": {
    "collapsed": true
   },
   "outputs": [],
   "source": []
  },
  {
   "cell_type": "code",
   "execution_count": null,
   "metadata": {
    "collapsed": true
   },
   "outputs": [],
   "source": []
  },
  {
   "cell_type": "markdown",
   "metadata": {},
   "source": [
    "Question 6. Is there a significant difference between males and females in normal temperature?"
   ]
  },
  {
   "cell_type": "markdown",
   "metadata": {},
   "source": [
    "Answer:<ul><li>\n",
    "For #1, I used a hypothesis test comparing the bootstrappted replicates of the sampled data for males and females. B/c the p-value is close to 0, yes there it is statistically significant that the means of males and females' normal temperature are not equal.  \n"
   ]
  },
  {
   "cell_type": "code",
   "execution_count": 26,
   "metadata": {
    "collapsed": true
   },
   "outputs": [],
   "source": [
    "## first need to set up functions that will be used for analysis\n",
    "\n",
    "def diff_of_means(data_1, data_2):\n",
    "    #\"\"\"Difference in means of two arrays.\"\"\"\n",
    "\n",
    "    # The difference of means of data_1, data_2: diff\n",
    "    diff = np.mean(data_1) - np.mean(data_2)\n",
    "\n",
    "    return diff\n",
    "\n",
    "\n",
    "def draw_perm_reps(data_1, data_2, func, size=1):\n",
    "    #\"\"\"Generate multiple permutation replicates.\"\"\"\n",
    "\n",
    "    # Initialize array of replicates: perm_replicates\n",
    "    perm_replicates = np.empty(size)\n",
    "\n",
    "    for i in range(size):\n",
    "        # Generate permutation sample\n",
    "        perm_sample_1, perm_sample_2 = permutation_sample(data_1, data_2)\n",
    "\n",
    "        # Compute the test statistic\n",
    "        perm_replicates[i] = func(perm_sample_1, perm_sample_2)\n",
    "\n",
    "    return perm_replicates\n",
    "\n",
    "def permutation_sample(data1, data2):\n",
    "    \"\"\"Generate a permutation sample from two data sets.\"\"\"\n",
    "\n",
    "    # Concatenate the data sets: data\n",
    "    data = np.concatenate((data1, data2))\n",
    "\n",
    "    # Permute the concatenated array: permuted_data\n",
    "    permuted_data = np.random.permutation(data)\n",
    "\n",
    "    # Split the permuted array into two: perm_sample_1, perm_sample_2\n",
    "    perm_sample_1 = permuted_data[:len(data1)]\n",
    "    perm_sample_2 = permuted_data[len(data1):]\n",
    "\n",
    "    return perm_sample_1, perm_sample_2"
   ]
  },
  {
   "cell_type": "code",
   "execution_count": 29,
   "metadata": {
    "scrolled": true
   },
   "outputs": [
    {
     "name": "stdout",
     "output_type": "stream",
     "text": [
      "('p-value =', 0.0107)\n",
      "98.3938461538\n",
      "98.1046153846\n"
     ]
    }
   ],
   "source": [
    "import numpy as np\n",
    "import scipy.stats as st\n",
    "females = df[df['gender']=='F']\n",
    "males = df[df['gender']=='M']\n",
    "females_sample_mean = np.mean(females['temperature'])\n",
    "males_sample_mean = np.mean(males['temperature'])\n",
    "\n",
    "\n",
    "# Compute difference of mean impact force from experiment: empirical_diff_means\n",
    "empirical_diff_means = diff_of_means(females['temperature'], males['temperature'])\n",
    "\n",
    "# Draw 10,000 permutation replicates: perm_replicates\n",
    "perm_replicates = draw_perm_reps(females['temperature'], males['temperature'],\n",
    "                                 diff_of_means, size=10000)\n",
    "\n",
    "# Compute p-value: p\n",
    "p = float(np.sum(perm_replicates >= empirical_diff_means)) / len(perm_replicates)\n",
    "\n",
    "# Print the result\n",
    "print('p-value =', p)\n",
    "print females_sample_mean\n",
    "print males_sample_mean"
   ]
  },
  {
   "cell_type": "code",
   "execution_count": null,
   "metadata": {
    "collapsed": true
   },
   "outputs": [],
   "source": []
  },
  {
   "cell_type": "code",
   "execution_count": null,
   "metadata": {
    "collapsed": true
   },
   "outputs": [],
   "source": []
  },
  {
   "cell_type": "code",
   "execution_count": null,
   "metadata": {
    "collapsed": true
   },
   "outputs": [],
   "source": []
  },
  {
   "cell_type": "code",
   "execution_count": null,
   "metadata": {
    "collapsed": true
   },
   "outputs": [],
   "source": [
    "# old way, no need to look at"
   ]
  },
  {
   "cell_type": "code",
   "execution_count": null,
   "metadata": {
    "collapsed": true
   },
   "outputs": [],
   "source": [
    "import numpy as np\n",
    "\n",
    "def bootstrap_replicate_1d(data, func):\n",
    "    return func(np.random.choice(data, size=len(data)))\n",
    "\n",
    "def draw_bs_reps(data, func, size=1):\n",
    "    \"\"\"Draw bootstrap replicates.\"\"\"\n",
    "\n",
    "    # Initialize array of replicates: bs_replicates\n",
    "    bs_replicates = np.empty(size)\n",
    "\n",
    "    # Generate replicates\n",
    "    for i in range(size):\n",
    "        bs_replicates[i] = bootstrap_replicate_1d(data, func)\n",
    "\n",
    "    return bs_replicates"
   ]
  },
  {
   "cell_type": "code",
   "execution_count": 20,
   "metadata": {},
   "outputs": [
    {
     "name": "stdout",
     "output_type": "stream",
     "text": [
      "the females_bs_sample mean is  98.38997\n",
      "the males_bs_sample mean is  98.09833\n",
      "the p-value is  0.0001\n"
     ]
    }
   ],
   "source": [
    "import numpy as np\n",
    "import scipy.stats as st\n",
    "females = df[df['gender']=='F']\n",
    "males = df[df['gender']=='M']\n",
    "\n",
    "females_sample_mean = np.mean(females['temperature'])\n",
    "males_sample_mean = np.mean(males['temperature'])\n",
    "\n",
    "females_bs_sample = np.random.choice(females['temperature'], size=10000)\n",
    "females_bs_sample_mean = np.mean(females_bs_sample)\n",
    "females_bs_sample_std = np.std(females_bs_sample)\n",
    "\n",
    "males_bs_sample = np.random.choice(males['temperature'], size=10000)\n",
    "males_bs_sample_mean = np.mean(males_bs_sample)\n",
    "males_bs_sample_std = np.std(males_bs_sample)\n",
    "\n",
    "\n",
    "print 'the females_bs_sample mean is ', females_bs_sample_mean\n",
    "print 'the males_bs_sample mean is ', males_bs_sample_mean\n",
    "\n",
    "bs_diff_replicates = females_bs_sample_mean - males_bs_sample_mean\n",
    "mean_diff = 0  # null hypothesis is that there's no difference b/t male and female body temp\n",
    "#p = np.sum(bs_diff_replicates >= mean_diff) / len(bs_diff_replicates)   <--- this does not work\n",
    "p = float(np.sum(bs_diff_replicates >= mean_diff)) / len(males_bs_sample)\n",
    "print 'the p-value is ', p"
   ]
  },
  {
   "cell_type": "code",
   "execution_count": null,
   "metadata": {
    "collapsed": true
   },
   "outputs": [],
   "source": []
  }
 ],
 "metadata": {
  "kernelspec": {
   "display_name": "Python 2",
   "language": "python",
   "name": "python2"
  },
  "language_info": {
   "codemirror_mode": {
    "name": "ipython",
    "version": 2
   },
   "file_extension": ".py",
   "mimetype": "text/x-python",
   "name": "python",
   "nbconvert_exporter": "python",
   "pygments_lexer": "ipython2",
   "version": "2.7.13"
  }
 },
 "nbformat": 4,
 "nbformat_minor": 1
}
